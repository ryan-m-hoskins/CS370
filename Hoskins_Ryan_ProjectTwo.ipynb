{
 "cells": [
  {
   "cell_type": "markdown",
   "metadata": {},
   "source": [
    "# Treasure Hunt Game Notebook\n",
    "\n",
    "## Read and Review Your Starter Code\n",
    "The theme of this project is a popular treasure hunt game in which the player needs to find the treasure before the pirate does. While you will not be developing the entire game, you will write the part of the game that represents the intelligent agent, which is a pirate in this case. The pirate will try to find the optimal path to the treasure using deep Q-learning. \n",
    "\n",
    "You have been provided with two Python classes and this notebook to help you with this assignment. The first class, TreasureMaze.py, represents the environment, which includes a maze object defined as a matrix. The second class, GameExperience.py, stores the episodes – that is, all the states that come in between the initial state and the terminal state. This is later used by the agent for learning by experience, called \"exploration\". This notebook shows how to play a game. Your task is to complete the deep Q-learning implementation for which a skeleton implementation has been provided. The code blocks you will need to complete has #TODO as a header.\n",
    "\n",
    "First, read and review the next few code and instruction blocks to understand the code that you have been given."
   ]
  },
  {
   "cell_type": "code",
   "execution_count": 30,
   "metadata": {},
   "outputs": [],
   "source": [
    "from __future__ import print_function\n",
    "import os, sys, time, datetime, json, random\n",
    "import numpy as np\n",
    "from keras.models import Sequential\n",
    "from keras.layers.core import Dense, Activation\n",
    "from keras.optimizers import SGD , Adam, RMSprop\n",
    "from keras.layers.advanced_activations import PReLU\n",
    "import matplotlib.pyplot as plt\n",
    "from TreasureMaze import TreasureMaze\n",
    "from GameExperience import GameExperience\n",
    "%matplotlib inline"
   ]
  },
  {
   "cell_type": "markdown",
   "metadata": {},
   "source": [
    "The following code block contains an 8x8 matrix that will be used as a maze object:"
   ]
  },
  {
   "cell_type": "code",
   "execution_count": 31,
   "metadata": {},
   "outputs": [],
   "source": [
    "maze = np.array([\n",
    "    [ 1.,  0.,  1.,  1.,  1.,  1.,  1.,  1.],\n",
    "    [ 1.,  0.,  1.,  1.,  1.,  0.,  1.,  1.],\n",
    "    [ 1.,  1.,  1.,  1.,  0.,  1.,  0.,  1.],\n",
    "    [ 1.,  1.,  1.,  0.,  1.,  1.,  1.,  1.],\n",
    "    [ 1.,  1.,  0.,  1.,  1.,  1.,  1.,  1.],\n",
    "    [ 1.,  1.,  1.,  0.,  1.,  0.,  0.,  0.],\n",
    "    [ 1.,  1.,  1.,  0.,  1.,  1.,  1.,  1.],\n",
    "    [ 1.,  1.,  1.,  1.,  0.,  1.,  1.,  1.]\n",
    "])"
   ]
  },
  {
   "cell_type": "markdown",
   "metadata": {},
   "source": [
    "This helper function allows a visual representation of the maze object:"
   ]
  },
  {
   "cell_type": "code",
   "execution_count": 32,
   "metadata": {},
   "outputs": [],
   "source": [
    "def show(qmaze):\n",
    "    plt.grid('on')\n",
    "    nrows, ncols = qmaze.maze.shape\n",
    "    ax = plt.gca()\n",
    "    ax.set_xticks(np.arange(0.5, nrows, 1))\n",
    "    ax.set_yticks(np.arange(0.5, ncols, 1))\n",
    "    ax.set_xticklabels([])\n",
    "    ax.set_yticklabels([])\n",
    "    canvas = np.copy(qmaze.maze)\n",
    "    for row,col in qmaze.visited:\n",
    "        canvas[row,col] = 0.6\n",
    "    pirate_row, pirate_col, _ = qmaze.state\n",
    "    canvas[pirate_row, pirate_col] = 0.3   # pirate cell\n",
    "    canvas[nrows-1, ncols-1] = 0.9 # treasure cell\n",
    "    img = plt.imshow(canvas, interpolation='none', cmap='gray')\n",
    "    return img"
   ]
  },
  {
   "cell_type": "markdown",
   "metadata": {},
   "source": [
    "The pirate agent can move in four directions: left, right, up, and down. \n",
    "\n",
    "While the agent primarily learns by experience through exploitation, often, the agent can choose to explore the environment to find previously undiscovered paths. This is called \"exploration\" and is defined by epsilon. This value is typically a lower value such as 0.1, which means for every ten attempts, the agent will attempt to learn by experience nine times and will randomly explore a new path one time. You are encouraged to try various values for the exploration factor and see how the algorithm performs."
   ]
  },
  {
   "cell_type": "code",
   "execution_count": 33,
   "metadata": {},
   "outputs": [],
   "source": [
    "LEFT = 0\n",
    "UP = 1\n",
    "RIGHT = 2\n",
    "DOWN = 3\n",
    "\n",
    "\n",
    "# Exploration factor\n",
    "epsilon = 0.1\n",
    "\n",
    "# Actions dictionary\n",
    "actions_dict = {\n",
    "    LEFT: 'left',\n",
    "    UP: 'up',\n",
    "    RIGHT: 'right',\n",
    "    DOWN: 'down',\n",
    "}\n",
    "\n",
    "num_actions = len(actions_dict)\n"
   ]
  },
  {
   "cell_type": "markdown",
   "metadata": {},
   "source": [
    "The sample code block and output below show creating a maze object and performing one action (DOWN), which returns the reward. The resulting updated environment is visualized."
   ]
  },
  {
   "cell_type": "code",
   "execution_count": 34,
   "metadata": {},
   "outputs": [
    {
     "name": "stdout",
     "output_type": "stream",
     "text": [
      "reward= -0.04\n"
     ]
    },
    {
     "data": {
      "text/plain": [
       "<matplotlib.image.AxesImage at 0x7f1094008d30>"
      ]
     },
     "execution_count": 34,
     "metadata": {},
     "output_type": "execute_result"
    },
    {
     "data": {
      "image/png": "[encoded data removed]",
      "text/plain": [
       "<Figure size 432x288 with 1 Axes>"
      ]
     },
     "metadata": {
      "needs_background": "light"
     },
     "output_type": "display_data"
    }
   ],
   "source": [
    "qmaze = TreasureMaze(maze)\n",
    "canvas, reward, game_over = qmaze.act(DOWN)\n",
    "print(\"reward=\", reward)\n",
    "show(qmaze)"
   ]
  },
  {
   "cell_type": "markdown",
   "metadata": {},
   "source": [
    "This function simulates a full game based on the provided trained model. The other parameters include the TreasureMaze object and the starting position of the pirate."
   ]
  },
  {
   "cell_type": "code",
   "execution_count": 35,
   "metadata": {},
   "outputs": [],
   "source": [
    "def play_game(model, qmaze, pirate_cell):\n",
    "    qmaze.reset(pirate_cell)\n",
    "    envstate = qmaze.observe()\n",
    "    while True:\n",
    "        prev_envstate = envstate\n",
    "        # get next action\n",
    "        q = model.predict(prev_envstate)\n",
    "        action = np.argmax(q[0])\n",
    "\n",
    "        # apply action, get rewards and new state\n",
    "        envstate, reward, game_status = qmaze.act(action)\n",
    "        if game_status == 'win':\n",
    "            return True\n",
    "        elif game_status == 'lose':\n",
    "            return False"
   ]
  },
  {
   "cell_type": "markdown",
   "metadata": {},
   "source": [
    "This function helps you to determine whether the pirate can win any game at all. If your maze is not well designed, the pirate may not win any game at all. In this case, your training would not yield any result. The provided maze in this notebook ensures that there is a path to win and you can run this method to check."
   ]
  },
  {
   "cell_type": "code",
   "execution_count": 36,
   "metadata": {},
   "outputs": [],
   "source": [
    "def completion_check(model, qmaze):\n",
    "    for cell in qmaze.free_cells:\n",
    "        if not qmaze.valid_actions(cell):\n",
    "            return False\n",
    "        if not play_game(model, qmaze, cell):\n",
    "            return False\n",
    "    return True"
   ]
  },
  {
   "cell_type": "markdown",
   "metadata": {},
   "source": [
    "The code you have been given in this block will build the neural network model. Review the code and note the number of layers, as well as the activation, optimizer, and loss functions that are used to train the model."
   ]
  },
  {
   "cell_type": "code",
   "execution_count": 37,
   "metadata": {},
   "outputs": [],
   "source": [
    "def build_model(maze):\n",
    "    model = Sequential()\n",
    "    model.add(Dense(maze.size, input_shape=(maze.size,)))\n",
    "    model.add(PReLU())\n",
    "    model.add(Dense(maze.size))\n",
    "    model.add(PReLU())\n",
    "    model.add(Dense(num_actions))\n",
    "    model.compile(optimizer='adam', loss='mse')\n",
    "    return model"
   ]
  },
  {
   "cell_type": "markdown",
   "metadata": {},
   "source": [
    "# #TODO: Complete the Q-Training Algorithm Code Block\n",
    "\n",
    "This is your deep Q-learning implementation. The goal of your deep Q-learning implementation is to find the best possible navigation sequence that results in reaching the treasure cell while maximizing the reward. In your implementation, you need to determine the optimal number of epochs to achieve a 100% win rate.\n",
    "\n",
    "You will need to complete the section starting with #pseudocode. The pseudocode has been included for you."
   ]
  },
  {
   "cell_type": "code",
   "execution_count": 38,
   "metadata": {},
   "outputs": [],
   "source": [
    "def qtrain(model, maze, **opt):\n",
    "\n",
    "    # exploration factor\n",
    "    global epsilon \n",
    "\n",
    "    # number of epochs\n",
    "    n_epoch = opt.get('n_epoch', 15000)\n",
    "\n",
    "    # maximum memory to store episodes\n",
    "    max_memory = opt.get('max_memory', 1000)\n",
    "\n",
    "    # maximum data size for training\n",
    "    data_size = opt.get('data_size', 50)\n",
    "\n",
    "    # start time\n",
    "    start_time = datetime.datetime.now()\n",
    "\n",
    "    # Construct environment/game from numpy array: maze (see above)\n",
    "    qmaze = TreasureMaze(maze)\n",
    "\n",
    "    # Initialize experience replay object\n",
    "    experience = GameExperience(model, max_memory=max_memory)\n",
    "    \n",
    "    win_history = []   # history of win/lose game\n",
    "    hsize = qmaze.maze.size//2   # history window size\n",
    "    win_rate = 0.0\n",
    "    \n",
    "        # Agent_cell = randomly select a free cell\n",
    "        # Reset the maze with agent set to above position\n",
    "        # Hint: Review the reset method in the TreasureMaze.py class.\n",
    "        # envstate = Environment.current_state\n",
    "        # Hint: Review the observe method in the TreasureMaze.py class.\n",
    "    #    While state is not game over:\n",
    "        #        previous_envstate = envstate\n",
    "    #        Action = randomly choose action (left, right, up, down) either by exploration or by exploitation\n",
    "    #        envstate, reward, game_status = qmaze.act(action)\n",
    "    #    Hint: Review the act method in the TreasureMaze.py class.\n",
    "        #        episode = [previous_envstate, action, reward, envstate, game_status]\n",
    "    #        Store episode in Experience replay object\n",
    "    #        Hint: Review the remember method in the GameExperience.py class.\n",
    "                ## remember method with passed episode as parameter to \n",
    "    #        Train neural network model and evaluate loss\n",
    "    #    Hint: Call GameExperience.get_data to retrieve training data (input and target) and pass to model.fit method \n",
    "    #          to train the model. You can call model.evaluate to determine loss.\n",
    "    #    If the win rate is above the threshold and your model passes the completion check, that would be your epoch.\n",
    "\n",
    "    \n",
    "    # pseudocode:\n",
    "    # For each epoch:\n",
    "    for epoch in range(n_epoch):\n",
    "        ## Select a random cell that is free\n",
    "        agent_cell = random.choice(qmaze.free_cells)\n",
    "        ## Reset maze with passed agent_cell position \n",
    "        qmaze.reset(agent_cell)\n",
    "        ## Call on observe method to ensure envstate is shaped correctly (1,-1)\n",
    "        envstate = qmaze.observe()\n",
    "    \n",
    "        ## Initialize variables \n",
    "        game_over = False\n",
    "        loss = 0\n",
    "        n_episodes = 0\n",
    "        win = 0\n",
    "        \n",
    "        ## While the game is not over\n",
    "        while not game_over:\n",
    "            ## Set previous environment state \n",
    "            previous_envstate = envstate\n",
    "            \n",
    "            ## If the random number between 0 and 1 is less than epsilon, \n",
    "            if np.random.rand() < epsilon:\n",
    "                ## Perform action based on randomized choice of 0,1,2, or 3 \n",
    "                action = np.random.choice([0,1,2,3])\n",
    "                \n",
    "            ## Otherwise, predict q values with passed previous environment state\n",
    "            else: \n",
    "                q = model.predict(previous_envstate)\n",
    "                ## Assign action\n",
    "                action = np.argmax(q[0])\n",
    "            \n",
    "            ## Use .act method to update envstate, reward, and game_status after passing action \n",
    "            envstate, reward, game_status = qmaze.act(action)\n",
    "            ## Create list based on previous_envstate, action, reward, envstate, and game_status\n",
    "            episode = [previous_envstate, action, reward, envstate, game_status]\n",
    "\n",
    "            ## Call on remember method with passed episode to store it \n",
    "            experience.remember(episode)\n",
    "            \n",
    "            ## Check if game status is win, set game_over to True\n",
    "            if game_status == 'win':\n",
    "                win = 1\n",
    "                game_over = True\n",
    "                \n",
    "            ## Otherwise, win is false and update game_over to True\n",
    "            elif game_status == 'lose':\n",
    "                win = 0\n",
    "                game_over = True\n",
    "                \n",
    "            ## Add episode\n",
    "            n_episodes += 1\n",
    "    \n",
    "            ## Make sure there are enough episodes to train on, based on data_size \n",
    "            if len(experience.memory) >= data_size:\n",
    "                ## Call get_data method based on data_size parameter to assign to inputs and targets\n",
    "                inputs, targets = experience.get_data(data_size)\n",
    "                ## Call model.fit method with parameters, set to train on one epoch, and return History object\n",
    "                history = model.fit(inputs, targets, epochs=1, verbose=0)\n",
    "                ## Extract data from history that matches 'loss', index 0\n",
    "                loss = history.history['loss'][0]\n",
    "\n",
    "        ## Add win and calculate win rate\n",
    "        win_history.append(win)\n",
    "        win_rate = sum(win_history[-hsize:]) / float(hsize)            \n",
    "    \n",
    "    #Print the epoch, loss, episodes, win count, and win rate for each epoch\n",
    "        dt = datetime.datetime.now() - start_time\n",
    "        t = format_time(dt.total_seconds())\n",
    "        template = \"Epoch: {:03d}/{:d} | Loss: {:.4f} | Episodes: {:d} | Win count: {:d} | Win rate: {:.3f} | time: {}\"\n",
    "        print(template.format(epoch, n_epoch-1, loss, n_episodes, sum(win_history), win_rate, t))\n",
    "        # We simply check if training has exhausted all free cells and if in all\n",
    "        # cases the agent won.\n",
    "        if win_rate > 0.9 : epsilon = 0.05\n",
    "        if sum(win_history[-hsize:]) == hsize and completion_check(model, qmaze):\n",
    "            print(\"Reached 100%% win rate at epoch: %d\" % (epoch,))\n",
    "            break\n",
    "    \n",
    "    \n",
    "    # Determine the total time for training\n",
    "    dt = datetime.datetime.now() - start_time\n",
    "    seconds = dt.total_seconds()\n",
    "    t = format_time(seconds)\n",
    "\n",
    "    print(\"n_epoch: %d, max_mem: %d, data: %d, time: %s\" % (epoch, max_memory, data_size, t))\n",
    "    return seconds\n",
    "\n",
    "# This is a small utility for printing readable time strings:\n",
    "def format_time(seconds):\n",
    "    if seconds < 400:\n",
    "        s = float(seconds)\n",
    "        return \"%.1f seconds\" % (s,)\n",
    "    elif seconds < 4000:\n",
    "        m = seconds / 60.0\n",
    "        return \"%.2f minutes\" % (m,)\n",
    "    else:\n",
    "        h = seconds / 3600.0\n",
    "        return \"%.2f hours\" % (h,)"
   ]
  },
  {
   "cell_type": "markdown",
   "metadata": {},
   "source": [
    "## Test Your Model\n",
    "\n",
    "Now we will start testing the deep Q-learning implementation. To begin, select **Cell**, then **Run All** from the menu bar. This will run your notebook. As it runs, you should see output begin to appear beneath the next few cells. The code below creates an instance of TreasureMaze."
   ]
  },
  {
   "cell_type": "code",
   "execution_count": 39,
   "metadata": {},
   "outputs": [
    {
     "data": {
      "text/plain": [
       "<matplotlib.image.AxesImage at 0x7f108bff02b0>"
      ]
     },
     "execution_count": 39,
     "metadata": {},
     "output_type": "execute_result"
    },
    {
     "data": {
      "image/png": "[encoded data removed]",
      "text/plain": [
       "<Figure size 432x288 with 1 Axes>"
      ]
     },
     "metadata": {
      "needs_background": "light"
     },
     "output_type": "display_data"
    }
   ],
   "source": [
    "qmaze = TreasureMaze(maze)\n",
    "show(qmaze)"
   ]
  },
  {
   "cell_type": "markdown",
   "metadata": {},
   "source": [
    "In the next code block, you will build your model and train it using deep Q-learning. Note: This step takes several minutes to fully run."
   ]
  },
  {
   "cell_type": "code",
   "execution_count": 40,
   "metadata": {},
   "outputs": [
    {
     "name": "stdout",
     "output_type": "stream",
     "text": [
      "Epoch: 000/14999 | Loss: 0.0009 | Episodes: 116 | Win count: 1 | Win rate: 0.031 | time: 3.5 seconds\n",
      "Epoch: 001/14999 | Loss: 0.0006 | Episodes: 14 | Win count: 2 | Win rate: 0.062 | time: 4.0 seconds\n",
      "Epoch: 002/14999 | Loss: 0.0010 | Episodes: 92 | Win count: 3 | Win rate: 0.094 | time: 6.9 seconds\n",
      "Epoch: 003/14999 | Loss: 0.0010 | Episodes: 16 | Win count: 4 | Win rate: 0.125 | time: 7.4 seconds\n",
      "Epoch: 004/14999 | Loss: 0.0011 | Episodes: 139 | Win count: 4 | Win rate: 0.125 | time: 11.5 seconds\n",
      "Epoch: 005/14999 | Loss: 0.0020 | Episodes: 94 | Win count: 5 | Win rate: 0.156 | time: 14.3 seconds\n",
      "Epoch: 006/14999 | Loss: 0.0011 | Episodes: 133 | Win count: 5 | Win rate: 0.156 | time: 18.1 seconds\n",
      "Epoch: 007/14999 | Loss: 0.0097 | Episodes: 14 | Win count: 6 | Win rate: 0.188 | time: 18.6 seconds\n",
      "Epoch: 008/14999 | Loss: 0.0097 | Episodes: 16 | Win count: 7 | Win rate: 0.219 | time: 19.0 seconds\n",
      "Epoch: 009/14999 | Loss: 0.0010 | Episodes: 134 | Win count: 7 | Win rate: 0.219 | time: 23.1 seconds\n",
      "Epoch: 010/14999 | Loss: 0.0084 | Episodes: 6 | Win count: 8 | Win rate: 0.250 | time: 23.2 seconds\n",
      "Epoch: 011/14999 | Loss: 0.0021 | Episodes: 28 | Win count: 9 | Win rate: 0.281 | time: 24.1 seconds\n",
      "Epoch: 012/14999 | Loss: 0.0086 | Episodes: 96 | Win count: 10 | Win rate: 0.312 | time: 27.1 seconds\n",
      "Epoch: 013/14999 | Loss: 0.0024 | Episodes: 138 | Win count: 10 | Win rate: 0.312 | time: 31.2 seconds\n",
      "Epoch: 014/14999 | Loss: 0.0047 | Episodes: 3 | Win count: 11 | Win rate: 0.344 | time: 31.3 seconds\n",
      "Epoch: 015/14999 | Loss: 0.0028 | Episodes: 135 | Win count: 11 | Win rate: 0.344 | time: 35.3 seconds\n",
      "Epoch: 016/14999 | Loss: 0.0014 | Episodes: 136 | Win count: 11 | Win rate: 0.344 | time: 39.4 seconds\n",
      "Epoch: 017/14999 | Loss: 0.0014 | Episodes: 9 | Win count: 12 | Win rate: 0.375 | time: 39.6 seconds\n",
      "Epoch: 018/14999 | Loss: 0.0026 | Episodes: 9 | Win count: 13 | Win rate: 0.406 | time: 39.9 seconds\n",
      "Epoch: 019/14999 | Loss: 0.0038 | Episodes: 10 | Win count: 14 | Win rate: 0.438 | time: 40.2 seconds\n",
      "Epoch: 020/14999 | Loss: 0.0016 | Episodes: 55 | Win count: 15 | Win rate: 0.469 | time: 41.9 seconds\n",
      "Epoch: 021/14999 | Loss: 0.0079 | Episodes: 144 | Win count: 15 | Win rate: 0.469 | time: 46.5 seconds\n",
      "Epoch: 022/14999 | Loss: 0.0094 | Episodes: 48 | Win count: 16 | Win rate: 0.500 | time: 48.1 seconds\n",
      "Epoch: 023/14999 | Loss: 0.0026 | Episodes: 10 | Win count: 17 | Win rate: 0.531 | time: 48.4 seconds\n",
      "Epoch: 024/14999 | Loss: 0.0053 | Episodes: 139 | Win count: 17 | Win rate: 0.531 | time: 52.6 seconds\n",
      "Epoch: 025/14999 | Loss: 0.0017 | Episodes: 49 | Win count: 18 | Win rate: 0.562 | time: 54.2 seconds\n",
      "Epoch: 026/14999 | Loss: 0.0016 | Episodes: 90 | Win count: 19 | Win rate: 0.594 | time: 57.0 seconds\n",
      "Epoch: 027/14999 | Loss: 0.0014 | Episodes: 2 | Win count: 20 | Win rate: 0.625 | time: 57.0 seconds\n",
      "Epoch: 028/14999 | Loss: 0.0020 | Episodes: 3 | Win count: 21 | Win rate: 0.656 | time: 57.1 seconds\n",
      "Epoch: 029/14999 | Loss: 0.0012 | Episodes: 23 | Win count: 22 | Win rate: 0.688 | time: 57.9 seconds\n",
      "Epoch: 030/14999 | Loss: 0.0011 | Episodes: 44 | Win count: 23 | Win rate: 0.719 | time: 59.5 seconds\n",
      "Epoch: 031/14999 | Loss: 0.0022 | Episodes: 48 | Win count: 24 | Win rate: 0.750 | time: 60.9 seconds\n",
      "Epoch: 032/14999 | Loss: 0.0014 | Episodes: 14 | Win count: 25 | Win rate: 0.750 | time: 61.4 seconds\n",
      "Epoch: 033/14999 | Loss: 0.0049 | Episodes: 15 | Win count: 26 | Win rate: 0.750 | time: 61.8 seconds\n",
      "Epoch: 034/14999 | Loss: 0.0012 | Episodes: 6 | Win count: 27 | Win rate: 0.750 | time: 62.0 seconds\n",
      "Epoch: 035/14999 | Loss: 0.0012 | Episodes: 10 | Win count: 28 | Win rate: 0.750 | time: 62.3 seconds\n",
      "Epoch: 036/14999 | Loss: 0.0017 | Episodes: 22 | Win count: 29 | Win rate: 0.781 | time: 62.9 seconds\n",
      "Epoch: 037/14999 | Loss: 0.0015 | Episodes: 34 | Win count: 30 | Win rate: 0.781 | time: 63.9 seconds\n",
      "Epoch: 038/14999 | Loss: 0.0014 | Episodes: 10 | Win count: 31 | Win rate: 0.812 | time: 64.2 seconds\n",
      "Epoch: 039/14999 | Loss: 0.0023 | Episodes: 28 | Win count: 32 | Win rate: 0.812 | time: 65.1 seconds\n",
      "Epoch: 040/14999 | Loss: 0.0031 | Episodes: 3 | Win count: 33 | Win rate: 0.812 | time: 65.2 seconds\n",
      "Epoch: 041/14999 | Loss: 0.0018 | Episodes: 1 | Win count: 34 | Win rate: 0.844 | time: 65.3 seconds\n",
      "Epoch: 042/14999 | Loss: 0.0033 | Episodes: 26 | Win count: 35 | Win rate: 0.844 | time: 66.1 seconds\n",
      "Epoch: 043/14999 | Loss: 0.0030 | Episodes: 5 | Win count: 36 | Win rate: 0.844 | time: 66.2 seconds\n",
      "Epoch: 044/14999 | Loss: 0.0014 | Episodes: 6 | Win count: 37 | Win rate: 0.844 | time: 66.4 seconds\n",
      "Epoch: 045/14999 | Loss: 0.0014 | Episodes: 14 | Win count: 38 | Win rate: 0.875 | time: 66.8 seconds\n",
      "Epoch: 046/14999 | Loss: 0.0015 | Episodes: 5 | Win count: 39 | Win rate: 0.875 | time: 67.0 seconds\n",
      "Epoch: 047/14999 | Loss: 0.0026 | Episodes: 120 | Win count: 40 | Win rate: 0.906 | time: 70.7 seconds\n",
      "Epoch: 048/14999 | Loss: 0.0011 | Episodes: 25 | Win count: 41 | Win rate: 0.938 | time: 71.5 seconds\n",
      "Epoch: 049/14999 | Loss: 0.0018 | Episodes: 46 | Win count: 42 | Win rate: 0.938 | time: 72.9 seconds\n",
      "Epoch: 050/14999 | Loss: 0.0018 | Episodes: 2 | Win count: 43 | Win rate: 0.938 | time: 73.0 seconds\n",
      "Epoch: 051/14999 | Loss: 0.0018 | Episodes: 6 | Win count: 44 | Win rate: 0.938 | time: 73.1 seconds\n",
      "Epoch: 052/14999 | Loss: 0.0018 | Episodes: 8 | Win count: 45 | Win rate: 0.938 | time: 73.4 seconds\n",
      "Epoch: 053/14999 | Loss: 0.0015 | Episodes: 91 | Win count: 46 | Win rate: 0.969 | time: 76.2 seconds\n",
      "Epoch: 054/14999 | Loss: 0.0011 | Episodes: 24 | Win count: 47 | Win rate: 0.969 | time: 76.9 seconds\n",
      "Epoch: 055/14999 | Loss: 0.0007 | Episodes: 21 | Win count: 48 | Win rate: 0.969 | time: 77.6 seconds\n",
      "Epoch: 056/14999 | Loss: 0.0011 | Episodes: 15 | Win count: 49 | Win rate: 1.000 | time: 78.0 seconds\n",
      "Epoch: 057/14999 | Loss: 0.0028 | Episodes: 19 | Win count: 50 | Win rate: 1.000 | time: 78.6 seconds\n",
      "Epoch: 058/14999 | Loss: 0.0013 | Episodes: 26 | Win count: 51 | Win rate: 1.000 | time: 79.4 seconds\n",
      "Epoch: 059/14999 | Loss: 0.0015 | Episodes: 11 | Win count: 52 | Win rate: 1.000 | time: 79.8 seconds\n",
      "Epoch: 060/14999 | Loss: 0.0008 | Episodes: 42 | Win count: 53 | Win rate: 1.000 | time: 81.2 seconds\n",
      "Epoch: 061/14999 | Loss: 0.0006 | Episodes: 15 | Win count: 54 | Win rate: 1.000 | time: 81.7 seconds\n",
      "Epoch: 062/14999 | Loss: 0.0010 | Episodes: 4 | Win count: 55 | Win rate: 1.000 | time: 81.9 seconds\n",
      "Epoch: 063/14999 | Loss: 0.0006 | Episodes: 16 | Win count: 56 | Win rate: 1.000 | time: 82.5 seconds\n",
      "Epoch: 064/14999 | Loss: 0.0008 | Episodes: 23 | Win count: 57 | Win rate: 1.000 | time: 83.2 seconds\n",
      "Epoch: 065/14999 | Loss: 0.0008 | Episodes: 26 | Win count: 58 | Win rate: 1.000 | time: 84.0 seconds\n",
      "Epoch: 066/14999 | Loss: 0.0007 | Episodes: 26 | Win count: 59 | Win rate: 1.000 | time: 84.9 seconds\n",
      "Epoch: 067/14999 | Loss: 0.0014 | Episodes: 19 | Win count: 60 | Win rate: 1.000 | time: 85.5 seconds\n",
      "Epoch: 068/14999 | Loss: 0.0007 | Episodes: 19 | Win count: 61 | Win rate: 1.000 | time: 86.2 seconds\n",
      "Epoch: 069/14999 | Loss: 0.0003 | Episodes: 1 | Win count: 62 | Win rate: 1.000 | time: 86.5 seconds\n",
      "Epoch: 070/14999 | Loss: 0.0006 | Episodes: 20 | Win count: 63 | Win rate: 1.000 | time: 87.2 seconds\n",
      "Epoch: 071/14999 | Loss: 0.0009 | Episodes: 3 | Win count: 64 | Win rate: 1.000 | time: 87.4 seconds\n",
      "Epoch: 072/14999 | Loss: 0.0004 | Episodes: 21 | Win count: 65 | Win rate: 1.000 | time: 88.1 seconds\n",
      "Epoch: 073/14999 | Loss: 0.0005 | Episodes: 29 | Win count: 66 | Win rate: 1.000 | time: 89.3 seconds\n",
      "Epoch: 074/14999 | Loss: 0.0006 | Episodes: 35 | Win count: 67 | Win rate: 1.000 | time: 90.5 seconds\n",
      "Epoch: 075/14999 | Loss: 0.0017 | Episodes: 36 | Win count: 68 | Win rate: 1.000 | time: 91.5 seconds\n",
      "Epoch: 076/14999 | Loss: 0.0009 | Episodes: 31 | Win count: 69 | Win rate: 1.000 | time: 92.5 seconds\n",
      "Epoch: 077/14999 | Loss: 0.0008 | Episodes: 38 | Win count: 70 | Win rate: 1.000 | time: 94.1 seconds\n",
      "Epoch: 078/14999 | Loss: 0.0010 | Episodes: 40 | Win count: 71 | Win rate: 1.000 | time: 95.3 seconds\n",
      "Epoch: 079/14999 | Loss: 0.0006 | Episodes: 22 | Win count: 72 | Win rate: 1.000 | time: 96.0 seconds\n",
      "Epoch: 080/14999 | Loss: 0.0019 | Episodes: 13 | Win count: 73 | Win rate: 1.000 | time: 96.5 seconds\n"
     ]
    },
    {
     "name": "stdout",
     "output_type": "stream",
     "text": [
      "Epoch: 081/14999 | Loss: 0.0004 | Episodes: 37 | Win count: 74 | Win rate: 1.000 | time: 97.9 seconds\n",
      "Epoch: 082/14999 | Loss: 0.0018 | Episodes: 5 | Win count: 75 | Win rate: 1.000 | time: 98.2 seconds\n",
      "Epoch: 083/14999 | Loss: 0.0015 | Episodes: 19 | Win count: 76 | Win rate: 1.000 | time: 98.8 seconds\n",
      "Epoch: 084/14999 | Loss: 0.0010 | Episodes: 8 | Win count: 77 | Win rate: 1.000 | time: 99.1 seconds\n",
      "Epoch: 085/14999 | Loss: 0.0018 | Episodes: 4 | Win count: 78 | Win rate: 1.000 | time: 99.3 seconds\n",
      "Epoch: 086/14999 | Loss: 0.0010 | Episodes: 45 | Win count: 79 | Win rate: 1.000 | time: 100.9 seconds\n",
      "Epoch: 087/14999 | Loss: 0.0007 | Episodes: 19 | Win count: 80 | Win rate: 1.000 | time: 101.5 seconds\n",
      "Epoch: 088/14999 | Loss: 0.0011 | Episodes: 29 | Win count: 81 | Win rate: 1.000 | time: 102.6 seconds\n",
      "Epoch: 089/14999 | Loss: 0.0016 | Episodes: 23 | Win count: 82 | Win rate: 1.000 | time: 103.6 seconds\n",
      "Epoch: 090/14999 | Loss: 0.0006 | Episodes: 5 | Win count: 83 | Win rate: 1.000 | time: 103.7 seconds\n",
      "Epoch: 091/14999 | Loss: 0.0010 | Episodes: 42 | Win count: 84 | Win rate: 1.000 | time: 105.3 seconds\n",
      "Epoch: 092/14999 | Loss: 0.0016 | Episodes: 6 | Win count: 85 | Win rate: 1.000 | time: 105.6 seconds\n",
      "Epoch: 093/14999 | Loss: 0.0010 | Episodes: 9 | Win count: 86 | Win rate: 1.000 | time: 106.0 seconds\n",
      "Epoch: 094/14999 | Loss: 0.0011 | Episodes: 32 | Win count: 87 | Win rate: 1.000 | time: 107.3 seconds\n",
      "Epoch: 095/14999 | Loss: 0.0007 | Episodes: 24 | Win count: 88 | Win rate: 1.000 | time: 108.3 seconds\n",
      "Epoch: 096/14999 | Loss: 0.0011 | Episodes: 14 | Win count: 89 | Win rate: 1.000 | time: 108.7 seconds\n",
      "Epoch: 097/14999 | Loss: 0.0009 | Episodes: 15 | Win count: 90 | Win rate: 1.000 | time: 109.4 seconds\n",
      "Epoch: 098/14999 | Loss: 0.0009 | Episodes: 27 | Win count: 91 | Win rate: 1.000 | time: 110.2 seconds\n",
      "Reached 100% win rate at epoch: 98\n",
      "n_epoch: 98, max_mem: 512, data: 32, time: 110.6 seconds\n"
     ]
    },
    {
     "data": {
      "text/plain": [
       "110.645992"
      ]
     },
     "execution_count": 40,
     "metadata": {},
     "output_type": "execute_result"
    }
   ],
   "source": [
    "model = build_model(maze)\n",
    "qtrain(model, maze, epochs=1000, max_memory=8*maze.size, data_size=32)"
   ]
  },
  {
   "cell_type": "markdown",
   "metadata": {},
   "source": [
    "This cell will check to see if the model passes the completion check. Note: This could take several minutes."
   ]
  },
  {
   "cell_type": "code",
   "execution_count": 41,
   "metadata": {},
   "outputs": [
    {
     "data": {
      "text/plain": [
       "<matplotlib.image.AxesImage at 0x7f108a16d550>"
      ]
     },
     "execution_count": 41,
     "metadata": {},
     "output_type": "execute_result"
    },
    {
     "data": {
      "image/png": "[encoded data removed]",
      "text/plain": [
       "<Figure size 432x288 with 1 Axes>"
      ]
     },
     "metadata": {
      "needs_background": "light"
     },
     "output_type": "display_data"
    }
   ],
   "source": [
    "completion_check(model, qmaze)\n",
    "show(qmaze)"
   ]
  },
  {
   "cell_type": "markdown",
   "metadata": {},
   "source": [
    "This cell will test your model for one game. It will start the pirate at the top-left corner and run play_game. The agent should find a path from the starting position to the target (treasure). The treasure is located in the bottom-right corner."
   ]
  },
  {
   "cell_type": "code",
   "execution_count": 42,
   "metadata": {},
   "outputs": [
    {
     "data": {
      "text/plain": [
       "<matplotlib.image.AxesImage at 0x7f108a0cf6a0>"
      ]
     },
     "execution_count": 42,
     "metadata": {},
     "output_type": "execute_result"
    },
    {
     "data": {
      "image/png": "[encoded data removed]",
      "text/plain": [
       "<Figure size 432x288 with 1 Axes>"
      ]
     },
     "metadata": {
      "needs_background": "light"
     },
     "output_type": "display_data"
    }
   ],
   "source": [
    "pirate_start = (0, 0)\n",
    "play_game(model, qmaze, pirate_start)\n",
    "show(qmaze)"
   ]
  },
  {
   "cell_type": "markdown",
   "metadata": {},
   "source": [
    "## Save and Submit Your Work\n",
    "After you have finished creating the code for your notebook, save your work. Make sure that your notebook contains your name in the filename (e.g. Doe_Jane_ProjectTwo.ipynb). This will help your instructor access and grade your work easily. Download a copy of your IPYNB file and submit it to Brightspace. Refer to the Jupyter Notebook in Apporto Tutorial if you need help with these tasks."
   ]
  }
 ],
 "metadata": {
  "kernelspec": {
   "display_name": "Python 3",
   "language": "python",
   "name": "python3"
  },
  "language_info": {
   "codemirror_mode": {
    "name": "ipython",
    "version": 3
   },
   "file_extension": ".py",
   "mimetype": "text/x-python",
   "name": "python",
   "nbconvert_exporter": "python",
   "pygments_lexer": "ipython3",
   "version": "3.6.8"
  }
 },
 "nbformat": 4,
 "nbformat_minor": 2
}
